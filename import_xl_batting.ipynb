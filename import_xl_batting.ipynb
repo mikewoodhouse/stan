{
 "cells": [
  {
   "cell_type": "code",
   "execution_count": 1,
   "metadata": {},
   "outputs": [],
   "source": [
    "%load_ext autoreload\n",
    "%autoreload 2"
   ]
  },
  {
   "cell_type": "code",
   "execution_count": 2,
   "metadata": {},
   "outputs": [],
   "source": [
    "from app.loaders.batting_importer import BattingImporter"
   ]
  },
  {
   "cell_type": "code",
   "execution_count": 3,
   "metadata": {},
   "outputs": [],
   "source": [
    "import warnings\n",
    "import re\n",
    "from openpyxl import load_workbook\n",
    "warnings.filterwarnings(\"ignore\", category=UserWarning, module=\"openpyxl\")"
   ]
  },
  {
   "cell_type": "code",
   "execution_count": 4,
   "metadata": {},
   "outputs": [],
   "source": [
    "wb = load_workbook(\"/mnt/c/Users/mikew/Documents/TOCC/Averages/TOCC Averages 2022.xlsm\")"
   ]
  },
  {
   "cell_type": "code",
   "execution_count": 5,
   "metadata": {},
   "outputs": [
    {
     "name": "stdout",
     "output_type": "stream",
     "text": [
      "ws.min_row=1, ws.max_row=147\n",
      "ws.min_column=1, ws.max_column=83\n",
      "<openpyxl.worksheet.formula.ArrayFormula object at 0x7f86d342d6d0>\n",
      "Opp\n",
      "Venue\n",
      "Result\n",
      "Ahmed M\n",
      "Ahmed R\n",
      "2022-04-24 00:00:00\n",
      "Worcester Park\n",
      "H\n",
      "W\n",
      "6/4/b/0/1\n",
      "None\n",
      "2022-05-01 00:00:00\n",
      "Riverside\n",
      "H\n",
      "W\n",
      "None\n",
      "None\n",
      "2022-05-08 00:00:00\n",
      "Warlingham\n",
      "A\n",
      "D\n",
      "None\n",
      "None\n"
     ]
    }
   ],
   "source": [
    "imp = BattingImporter(wb[\"Batting\"])"
   ]
  },
  {
   "cell_type": "code",
   "execution_count": 40,
   "metadata": {},
   "outputs": [
    {
     "name": "stdout",
     "output_type": "stream",
     "text": [
      "retrieved 58 players\n",
      "retrieved 21 matches\n",
      "2022-04-24: Worcester Park (H) result: W\n",
      " 1  + Seymour D                                b    2\n",
      " 2    Seymour C                                c    6\n",
      " 3  * Springer T                               c   36\n",
      " 4    Patel M                                  b    9\n",
      " 5    Nair S                                   b    3\n",
      " 6    Ahmed M                                  b    4\n",
      " 7    Jenkins D                                b   16\n",
      " 8    De S                                    no   50\n",
      " 9    Kogulathasan D                           c    5\n",
      "10    Jain A                                  no    9\n",
      "11    Mander A                                dnb   0\n"
     ]
    }
   ],
   "source": [
    "imp.ingest()"
   ]
  },
  {
   "cell_type": "code",
   "execution_count": 39,
   "metadata": {},
   "outputs": [],
   "source": [
    "b = \"1/2/b+/1.0/0\""
   ]
  },
  {
   "cell_type": "code",
   "execution_count": 45,
   "metadata": {},
   "outputs": [],
   "source": [
    "batre=re.compile(\n",
    "    r'''(?P<position>\\d+)/'''\n",
    "    r'''(?P<runs>\\d+)(?P<out>\\*?)/'''\n",
    "    r'''(?P<how_out>[a-z]+)(?P<capt_kept>[\\*\\+]+)/'''\n",
    "    r'''(?P<fielded>[0-9.]+)/'''\n",
    "    r'''(?P<bdries>[0-9.]+)'''\n",
    ")"
   ]
  },
  {
   "cell_type": "code",
   "execution_count": 46,
   "metadata": {},
   "outputs": [
    {
     "name": "stdout",
     "output_type": "stream",
     "text": [
      "{'position': '1', 'runs': '2', 'out': '', 'how_out': 'b', 'capt_kept': '+', 'fielded': '1.0', 'bdries': '0'}\n"
     ]
    }
   ],
   "source": [
    "match = batre.search(b)\n",
    "print(match.groupdict())"
   ]
  },
  {
   "cell_type": "code",
   "execution_count": null,
   "metadata": {},
   "outputs": [],
   "source": []
  },
  {
   "cell_type": "code",
   "execution_count": null,
   "metadata": {},
   "outputs": [],
   "source": []
  }
 ],
 "metadata": {
  "kernelspec": {
   "display_name": "venv",
   "language": "python",
   "name": "python3"
  },
  "language_info": {
   "codemirror_mode": {
    "name": "ipython",
    "version": 3
   },
   "file_extension": ".py",
   "mimetype": "text/x-python",
   "name": "python",
   "nbconvert_exporter": "python",
   "pygments_lexer": "ipython3",
   "version": "3.11.3"
  },
  "orig_nbformat": 4
 },
 "nbformat": 4,
 "nbformat_minor": 2
}
