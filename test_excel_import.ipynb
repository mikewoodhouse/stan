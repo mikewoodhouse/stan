{
 "cells": [
  {
   "cell_type": "code",
   "execution_count": null,
   "metadata": {},
   "outputs": [],
   "source": [
    "%load_ext autoreload\n",
    "%autoreload 2"
   ]
  },
  {
   "cell_type": "code",
   "execution_count": null,
   "metadata": {},
   "outputs": [],
   "source": [
    "from openpyxl import Workbook, load_workbook\n",
    "import sqlite3"
   ]
  },
  {
   "cell_type": "code",
   "execution_count": null,
   "metadata": {},
   "outputs": [],
   "source": [
    "from app.types.classes import Match"
   ]
  },
  {
   "cell_type": "code",
   "execution_count": null,
   "metadata": {},
   "outputs": [],
   "source": [
    "import warnings\n",
    "warnings.filterwarnings('ignore', category=UserWarning, module='openpyxl')\n",
    "\n",
    "wb = load_workbook(\"/mnt/c/Users/mikew/Documents/TOCC/Averages/TOCC Averages 2022.xlsm\")"
   ]
  },
  {
   "cell_type": "code",
   "execution_count": null,
   "metadata": {},
   "outputs": [],
   "source": [
    "wb.sheetnames"
   ]
  },
  {
   "cell_type": "code",
   "execution_count": null,
   "metadata": {},
   "outputs": [],
   "source": [
    "sh = wb[\"Matches\"]"
   ]
  },
  {
   "cell_type": "code",
   "execution_count": null,
   "metadata": {},
   "outputs": [],
   "source": [
    "hdrs = None\n",
    "match_rows = []\n",
    "for row in sh.iter_rows(min_col=1, max_col=30, values_only=True):\n",
    "    if row[0] == \"Day\":\n",
    "        hdrs = row\n",
    "        print(hdrs)\n",
    "    elif hdrs and row[1]:\n",
    "        match_rows.append(row)\n",
    "    elif hdrs:\n",
    "        break\n",
    "print(len(match_rows))\n",
    "print(match_rows[0])\n",
    "\n",
    "m0 = dict(zip(hdrs,match_rows[3]))\n",
    "\n",
    "print(m0)"
   ]
  },
  {
   "cell_type": "code",
   "execution_count": null,
   "metadata": {},
   "outputs": [],
   "source": [
    "# map cell values by column index to dataclass fields\n",
    "match_map = {\n",
    "    1: \"date\",\n",
    "    2: \"oppo\",\n",
    "    3: \"venue\",\n",
    "    4: \"result\",\n",
    "    5: \"bat_first\",\n",
    "    6: \"first_runs\",\n",
    "    7: \"first_wkts\",    \n",
    "    8: \"first_all_out\",\n",
    "    9: \"first_notes\",\n",
    "    10: \"second_runs\",\n",
    "    11: \"second_wkts\",\n",
    "    12: \"second_all_out\",\n",
    "    13: \"second_notes\",\n",
    "    14: \"overs_opp\",\n",
    "    15: \"overs_tocc\",\n",
    "    16: \"tocc_w\",\n",
    "    17: \"tocc_nb\",\n",
    "    18: \"tocc_b\",\n",
    "    19: \"tocc_lb\",\n",
    "    20: \"opp_w\",\n",
    "    21: \"opp_nb\",\n",
    "    22: \"opp_b\",\n",
    "    23: \"opp_lb\",\n",
    "}"
   ]
  },
  {
   "cell_type": "code",
   "execution_count": null,
   "metadata": {},
   "outputs": [],
   "source": [
    "dict_0 = {v: match_rows[3][k] for k, v in match_map.items()}\n",
    "print(dict_0)"
   ]
  },
  {
   "cell_type": "code",
   "execution_count": null,
   "metadata": {},
   "outputs": [],
   "source": [
    "match_rows[0][1]"
   ]
  },
  {
   "cell_type": "code",
   "execution_count": null,
   "metadata": {},
   "outputs": [],
   "source": [
    "Match(**dict_0)"
   ]
  },
  {
   "cell_type": "code",
   "execution_count": null,
   "metadata": {},
   "outputs": [],
   "source": []
  }
 ],
 "metadata": {
  "kernelspec": {
   "display_name": "venv",
   "language": "python",
   "name": "python3"
  },
  "language_info": {
   "codemirror_mode": {
    "name": "ipython",
    "version": 3
   },
   "file_extension": ".py",
   "mimetype": "text/x-python",
   "name": "python",
   "nbconvert_exporter": "python",
   "pygments_lexer": "ipython3",
   "version": "3.11.3"
  },
  "orig_nbformat": 4,
  "vscode": {
   "interpreter": {
    "hash": "9cc395c9943d937d808888b16aa05aa28087174268c360f8451d49c84fc81016"
   }
  }
 },
 "nbformat": 4,
 "nbformat_minor": 2
}
