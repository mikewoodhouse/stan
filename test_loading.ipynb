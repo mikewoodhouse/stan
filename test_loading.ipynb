{
 "cells": [
  {
   "cell_type": "code",
   "execution_count": null,
   "metadata": {},
   "outputs": [],
   "source": [
    "%load_ext autoreload\n",
    "%autoreload 2"
   ]
  },
  {
   "cell_type": "code",
   "execution_count": null,
   "metadata": {},
   "outputs": [],
   "source": [
    "import sqlite3\n",
    "from dataclasses import fields, asdict\n",
    "from dataclass_csv import DataclassReader\n",
    "\n",
    "from app.types.classes import *"
   ]
  },
  {
   "cell_type": "code",
   "execution_count": null,
   "metadata": {},
   "outputs": [],
   "source": [
    "from typing import Type\n",
    "def csv_to_list(filename:str, cls: Type, hdrs:str) -> list:\n",
    "    with open(f\"csvdata/{filename}.csv\") as f:\n",
    "        reader = DataclassReader(f, cls)\n",
    "        for hdr in hdrs.split(\"|\"):\n",
    "            reader.map(hdr).to(hdr.lower())\n",
    "        return list(reader)"
   ]
  },
  {
   "cell_type": "code",
   "execution_count": null,
   "metadata": {},
   "outputs": [],
   "source": [
    "players = csv_to_list(\"players\", Player, \"Code|Surname|Initial|Active|FirstName\")\n",
    "print(len(players), \"players loaded\")"
   ]
  },
  {
   "cell_type": "code",
   "execution_count": null,
   "metadata": {},
   "outputs": [],
   "source": [
    "seasons = csv_to_list(\"seasons\", Season, \"Year|Played|Won|Lost|Drawn|Tied|NoResult|MaxPossibleGames\")\n",
    "print(len(seasons), \"seasons loaded\")"
   ]
  },
  {
   "cell_type": "code",
   "execution_count": null,
   "metadata": {},
   "outputs": [],
   "source": [
    "def insert_sql(cls: type, tablename: str) -> str:\n",
    "    cols = \", \".join(field.name for field in fields(cls))\n",
    "    vals = \", \".join(f\":{field.name}\" for field in fields(cls))\n",
    "    return f\"INSERT INTO {tablename} ({cols}) VALUES ({vals})\""
   ]
  },
  {
   "cell_type": "code",
   "execution_count": null,
   "metadata": {},
   "outputs": [],
   "source": [
    "def count(tablename: str) -> int:\n",
    "    csr = conn.execute(f\"SELECT COUNT(*) FROM {tablename}\")\n",
    "    return csr.fetchone()[0]"
   ]
  },
  {
   "cell_type": "code",
   "execution_count": null,
   "metadata": {},
   "outputs": [],
   "source": [
    "conn = sqlite3.connect(\":memory:\")"
   ]
  },
  {
   "cell_type": "code",
   "execution_count": null,
   "metadata": {},
   "outputs": [],
   "source": [
    "with open(\"db_schema.sql\") as f:\n",
    "    conn.executescript(f.read())"
   ]
  },
  {
   "cell_type": "code",
   "execution_count": null,
   "metadata": {},
   "outputs": [],
   "source": [
    "print(count(\"players\"))\n"
   ]
  },
  {
   "cell_type": "code",
   "execution_count": null,
   "metadata": {},
   "outputs": [],
   "source": [
    "sql = insert_sql(Player, \"players\")"
   ]
  },
  {
   "cell_type": "code",
   "execution_count": null,
   "metadata": {},
   "outputs": [],
   "source": [
    "conn.executemany(sql, [asdict(player) for player in players])"
   ]
  },
  {
   "cell_type": "code",
   "execution_count": null,
   "metadata": {},
   "outputs": [],
   "source": [
    "print(count(\"players\"))"
   ]
  },
  {
   "cell_type": "code",
   "execution_count": null,
   "metadata": {},
   "outputs": [],
   "source": [
    "conn.execute(\"select * from players where active limit 10\").fetchall()"
   ]
  },
  {
   "cell_type": "code",
   "execution_count": null,
   "metadata": {},
   "outputs": [],
   "source": []
  }
 ],
 "metadata": {
  "kernelspec": {
   "display_name": "venv",
   "language": "python",
   "name": "python3"
  },
  "language_info": {
   "codemirror_mode": {
    "name": "ipython",
    "version": 3
   },
   "file_extension": ".py",
   "mimetype": "text/x-python",
   "name": "python",
   "nbconvert_exporter": "python",
   "pygments_lexer": "ipython3",
   "version": "3.10.9"
  },
  "orig_nbformat": 4,
  "vscode": {
   "interpreter": {
    "hash": "9cc395c9943d937d808888b16aa05aa28087174268c360f8451d49c84fc81016"
   }
  }
 },
 "nbformat": 4,
 "nbformat_minor": 2
}
