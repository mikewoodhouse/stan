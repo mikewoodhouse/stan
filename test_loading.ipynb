{
 "cells": [
  {
   "cell_type": "code",
   "execution_count": 21,
   "metadata": {},
   "outputs": [
    {
     "name": "stdout",
     "output_type": "stream",
     "text": [
      "The autoreload extension is already loaded. To reload it, use:\n",
      "  %reload_ext autoreload\n"
     ]
    }
   ],
   "source": [
    "%load_ext autoreload\n",
    "%autoreload 2"
   ]
  },
  {
   "cell_type": "code",
   "execution_count": 28,
   "metadata": {},
   "outputs": [],
   "source": [
    "from app.types.classes import *\n",
    "\n",
    "from dataclass_csv import DataclassReader"
   ]
  },
  {
   "cell_type": "code",
   "execution_count": 23,
   "metadata": {},
   "outputs": [],
   "source": [
    "from typing import Type\n",
    "def csv_to_list(filename:str, cls: Type, hdrs:str) -> list:\n",
    "    with open(f\"csvdata/{filename}.csv\") as f:\n",
    "        reader = DataclassReader(f, cls)\n",
    "        for hdr in hdrs.split(\"|\"):\n",
    "            reader.map(hdr).to(hdr.lower())\n",
    "        return list(reader)"
   ]
  },
  {
   "cell_type": "code",
   "execution_count": 24,
   "metadata": {},
   "outputs": [
    {
     "name": "stdout",
     "output_type": "stream",
     "text": [
      "702 players loaded\n"
     ]
    }
   ],
   "source": [
    "players = csv_to_list(\"players\", Player, \"Code|Surname|Initial|Active|FirstName\")\n",
    "print(len(players), \"players loaded\")"
   ]
  },
  {
   "cell_type": "code",
   "execution_count": 29,
   "metadata": {},
   "outputs": [
    {
     "name": "stdout",
     "output_type": "stream",
     "text": [
      "70 seasons loaded\n"
     ]
    }
   ],
   "source": [
    "seasons = csv_to_list(\"seasons\", Season, \"Year|Played|Won|Lost|Drawn|Tied|NoResult|MaxPossibleGames\")\n",
    "print(len(seasons), \"seasons loaded\")"
   ]
  },
  {
   "cell_type": "code",
   "execution_count": 30,
   "metadata": {},
   "outputs": [
    {
     "name": "stdout",
     "output_type": "stream",
     "text": [
      "Player(code='adal', surname='Adams', active=True, initial='L', firstname='')\n"
     ]
    }
   ],
   "source": [
    "print(players[0])"
   ]
  },
  {
   "cell_type": "code",
   "execution_count": 31,
   "metadata": {},
   "outputs": [
    {
     "name": "stdout",
     "output_type": "stream",
     "text": [
      "Season(year=1949, played=12, won=4, lost=7, drawn=1, tied=0, noresult=0, maxpossiblegames=12)\n"
     ]
    }
   ],
   "source": [
    "print(seasons[0])"
   ]
  },
  {
   "cell_type": "code",
   "execution_count": null,
   "metadata": {},
   "outputs": [],
   "source": []
  }
 ],
 "metadata": {
  "kernelspec": {
   "display_name": "venv",
   "language": "python",
   "name": "python3"
  },
  "language_info": {
   "codemirror_mode": {
    "name": "ipython",
    "version": 3
   },
   "file_extension": ".py",
   "mimetype": "text/x-python",
   "name": "python",
   "nbconvert_exporter": "python",
   "pygments_lexer": "ipython3",
   "version": "3.10.9"
  },
  "orig_nbformat": 4,
  "vscode": {
   "interpreter": {
    "hash": "9cc395c9943d937d808888b16aa05aa28087174268c360f8451d49c84fc81016"
   }
  }
 },
 "nbformat": 4,
 "nbformat_minor": 2
}
